{
  "nbformat": 4,
  "nbformat_minor": 0,
  "metadata": {
    "colab": {
      "provenance": []
    },
    "kernelspec": {
      "name": "python3",
      "display_name": "Python 3"
    },
    "language_info": {
      "name": "python"
    }
  },
  "cells": [
    {
      "cell_type": "markdown",
      "source": [
        "#Theoretical Questions"
      ],
      "metadata": {
        "id": "bXgHz6SQzwWf"
      }
    },
    {
      "cell_type": "markdown",
      "source": [
        "1.What is the difference between interpreted and compiled languages?\n",
        "- Compiled: Code is fully translated to machine code before execution (faster runtime, platform-dependent).\n",
        "- Interpreted: Code is translated and executed line-by-line at runtime (slower runtime, platform-independent).\n",
        "\n",
        "2.What is exception handling in Python?\n",
        "- A mechanism to gracefully manage and respond to errors or unexpected events during program execution, preventing crashes.\n",
        "\n",
        "3.What is the purpose of the finally block in exception handling?\n",
        "- Code within finally always executes, regardless of whether an exception       occurred or was handled, ensuring cleanup operations.\n",
        "\n",
        "4.What is logging in Python?\n",
        "- A powerful way to record events and information about your program's execution to various destinations (e.g., console, file) for debugging, monitoring, and analysis.\n",
        "\n",
        "5.What is the significance of the del method in Python?\n",
        "- It's called when an object is about to be garbage-collected, used for final cleanup (e.g., releasing external resources), but its timing is unpredictable.\n",
        "\n",
        "6.What is the difference between import and from ... import in Python?\n",
        "\n",
        "- import module: Imports the entire module; access elements via module.item.\n",
        "- from module import item: Imports specific items directly into the current namespace; access via item.\n",
        "\n",
        "7.How can you handle multiple exceptions in Python?**\n",
        "- Using multiple except blocks (one per type) or a single except block with a tuple of exception types: except (Error1, Error2):.\n",
        "\n",
        "8.What is the purpose of the with statement when handling files in Python?\n",
        "- It ensures resources (like files) are properly acquired and automatically released (e.g., closed) even if errors occur, using context managers.\n",
        "\n",
        "9.What is the difference between multithreading and multiprocessing?\n",
        "- Multithreading: Multiple execution threads within one process, sharing memory (good for I/O-bound tasks in Python due to GIL).\n",
        "Multiprocessing: Multiple independent processes, each with its own memory (good for CPU-bound tasks, bypasses GIL for true parallelism).\n",
        "\n",
        "10.What are the advantages of using logging in a program?\n",
        "-Improved debugging, better monitoring in production, easier troubleshooting, and a structured way to record program events.\n",
        "\n",
        "11.What is memory management in Python?\n",
        "- How Python allocates and deallocates memory for objects automatically, primarily through reference counting and a generational garbage collector.\n",
        "\n",
        "12.What are the basic steps involved in exception handling in Python?\n",
        "try (code that might fail), except (handle the error), else (if no error), finally (always executed cleanup).\n",
        "\n",
        "13.Why is memory management important in Python?\n",
        "- Ensures resource efficiency, prevents memory leaks, improves performance, and contributes to application stability by managing memory correctly.\n",
        "\n",
        "14.What is the role of try and except in exception handling?\n",
        "- try: Defines the code block where an exception might occur.\n",
        "except: Catches and handles specific exceptions raised within the try block.\n",
        "H1F How does Python's garbage collection system work?\n",
        "It uses reference counting (deletes objects when no references point to them) and a generational collector (detects and reclaims memory from circular references).\n",
        "\n",
        "15.What is the purpose of the else block in exception handling?\n",
        "- The else block executes only if the try block completes successfully without raising any exceptions.\n",
        "\n",
        "16.What are the common logging levels in Python?\n",
        "- DEBUG, INFO, WARNING, ERROR, CRITICAL (in increasing order of severity).\n",
        "\n",
        "17.What is the difference between os.fork() and multiprocessing in Python?\n",
        "- os.fork(): Low-level, Unix-specific system call to clone a process.\n",
        "- multiprocessing: High-level, cross-platform module for managing processes with easier IPC. (Usually preferred).\n",
        "\n",
        "18.What is the importance of closing a file in Python?\n",
        "- Releases system resources, flushes buffered data to disk (preventing data loss), and avoids exceeding OS file limits.\n",
        "\n",
        "19.What is the difference between file.read() and file.readline() in Python?\n",
        "- file.read(): Reads the entire file content (or specified bytes) as a single string.\n",
        "- file.readline(): Reads a single line at a time.\n",
        "\n",
        "20.What is the logging module in Python used for?\n",
        "- For emitting, filtering, formatting, and handling program log messages to various outputs.\n",
        "\n",
        "21.What is the os module in Python used for in file handling?\n",
        "- Provides functions for interacting with the operating system, including path manipulation, creating/removing directories, and basic file operations.\n",
        "\n",
        "22.What are the challenges associated with memory management in Python?\n",
        "- Subtle memory leaks (e.g., circular references not promptly collected), potential garbage collection pauses, and a higher memory footprint compared to lower-level languages.\n",
        "\n",
        "23.How do you raise an exception manually in Python?\n",
        "- Using the raise statement followed by the exception type and an optional message: raise ValueError(\"Error message\").\n",
        "\n",
        "24.Why is it important to use multithreading in certain applications?\n",
        "- To keep applications responsive (especially GUIs) and to efficiently handle I/O-bound tasks by allowing other operations to proceed while waiting for external resources."
      ],
      "metadata": {
        "id": "6iLcvMYowY9v"
      }
    },
    {
      "cell_type": "markdown",
      "source": [
        "#Practical Questions\n"
      ],
      "metadata": {
        "id": "YTXE5uMpz8NJ"
      }
    },
    {
      "cell_type": "code",
      "source": [
        "#1.How can you open a file for writing in Python and write a string to it\u001f\n",
        "# Open the file in write mode ('w')\n",
        "# The 'with' statement ensures the file is automatically closed\n",
        "file_name = \"my_output.txt\"\n",
        "content_to_write = \"Hello, Python file handling!\"\n",
        "\n",
        "with open(file_name, 'w') as file:\n",
        "    file.write(content_to_write)\n",
        "\n",
        "print(f\"String written to '{file_name}' successfully.\")"
      ],
      "metadata": {
        "colab": {
          "base_uri": "https://localhost:8080/"
        },
        "id": "Ds_2Z1fh0CgP",
        "outputId": "9bfa1cc5-0d0e-44b1-d210-3d3ff01d2ce6"
      },
      "execution_count": 1,
      "outputs": [
        {
          "output_type": "stream",
          "name": "stdout",
          "text": [
            "String written to 'my_output.txt' successfully.\n"
          ]
        }
      ]
    },
    {
      "cell_type": "code",
      "source": [
        "#2.Write a Python program to read the contents of a file and print each line\n",
        "# Create a dummy file for demonstration\n",
        "with open(\"my_read_file.txt\", 'w') as f:\n",
        "    f.write(\"First line.\\n\")\n",
        "    f.write(\"Second line.\\n\")\n",
        "    f.write(\"Third line.\\n\")\n",
        "\n",
        "# Open the file in read mode ('r')\n",
        "file_name = \"my_read_file.txt\"\n",
        "\n",
        "try:\n",
        "    with open(file_name, 'r') as file:\n",
        "        print(f\"Contents of '{file_name}':\")\n",
        "        for line in file:\n",
        "            print(line.strip()) # .strip() removes leading/trailing whitespace, including newline\n",
        "except FileNotFoundError:\n",
        "    print(f\"Error: The file '{file_name}' was not found.\")"
      ],
      "metadata": {
        "colab": {
          "base_uri": "https://localhost:8080/"
        },
        "id": "mGvM7ToqD6Pw",
        "outputId": "a7b21dce-3957-4244-f92f-969ecf381be3"
      },
      "execution_count": 2,
      "outputs": [
        {
          "output_type": "stream",
          "name": "stdout",
          "text": [
            "Contents of 'my_read_file.txt':\n",
            "First line.\n",
            "Second line.\n",
            "Third line.\n"
          ]
        }
      ]
    },
    {
      "cell_type": "code",
      "source": [
        "#3.How would you handle a case where the file doesn't exist while trying to open it for reading\u001f\n",
        "file_name = \"non_existent_file.txt\"\n",
        "\n",
        "try:\n",
        "    with open(file_name, 'r') as file:\n",
        "        content = file.read()\n",
        "        print(content)\n",
        "except FileNotFoundError:\n",
        "    print(f\"Error: The file '{file_name}' does not exist. Please check the path.\")"
      ],
      "metadata": {
        "colab": {
          "base_uri": "https://localhost:8080/"
        },
        "id": "HcdwLGweEMTZ",
        "outputId": "c2f4b434-5458-4b76-cdb3-ccb9b6e06609"
      },
      "execution_count": 3,
      "outputs": [
        {
          "output_type": "stream",
          "name": "stdout",
          "text": [
            "Error: The file 'non_existent_file.txt' does not exist. Please check the path.\n"
          ]
        }
      ]
    },
    {
      "cell_type": "code",
      "source": [
        "#4. Write a Python script that reads from one file and writes its content to another file.\n",
        "source_file_name = \"source.txt\"\n",
        "destination_file_name = \"destination.txt\"\n",
        "\n",
        "# Create a dummy source file\n",
        "with open(source_file_name, 'w') as f:\n",
        "    f.write(\"This is line 1 from source.\\n\")\n",
        "    f.write(\"This is line 2 from source.\\n\")\n",
        "    f.write(\"And the last line.\\n\")\n",
        "\n",
        "try:\n",
        "    with open(source_file_name, 'r') as source_file:\n",
        "        with open(destination_file_name, 'w') as dest_file:\n",
        "            for line in source_file:\n",
        "                dest_file.write(line)\n",
        "    print(f\"Content successfully copied from '{source_file_name}' to '{destination_file_name}'.\")\n",
        "except FileNotFoundError:\n",
        "    print(f\"Error: Source file '{source_file_name}' not found.\")\n",
        "except Exception as e:\n",
        "    print(f\"An unexpected error occurred: {e}\")"
      ],
      "metadata": {
        "colab": {
          "base_uri": "https://localhost:8080/"
        },
        "id": "TkQcrghjElZ9",
        "outputId": "9167d5aa-4f08-4087-e109-947f8e6f8039"
      },
      "execution_count": 4,
      "outputs": [
        {
          "output_type": "stream",
          "name": "stdout",
          "text": [
            "Content successfully copied from 'source.txt' to 'destination.txt'.\n"
          ]
        }
      ]
    },
    {
      "cell_type": "code",
      "source": [
        "#5.How would you catch and handle division by zero error in Python\u001f\n",
        "try:\n",
        "    numerator = 10\n",
        "    denominator = 0\n",
        "    result = numerator / denominator\n",
        "    print(result)\n",
        "except ZeroDivisionError:\n",
        "    print(\"Error: Cannot divide by zero!\")"
      ],
      "metadata": {
        "colab": {
          "base_uri": "https://localhost:8080/"
        },
        "id": "VEkodKUxE0Rn",
        "outputId": "675d76ff-b575-4ce5-bf1c-3fc4e9c29b73"
      },
      "execution_count": 5,
      "outputs": [
        {
          "output_type": "stream",
          "name": "stdout",
          "text": [
            "Error: Cannot divide by zero!\n"
          ]
        }
      ]
    },
    {
      "cell_type": "code",
      "source": [
        "#)6.Write a Python program that logs an error message to a log file when a division by zero exception occurs\n",
        "import logging\n",
        "\n",
        "# Configure logging to write to a file\n",
        "log_file_name = \"app_errors.log\"\n",
        "logging.basicConfig(filename=log_file_name, level=logging.ERROR,\n",
        "                    format='%(asctime)s - %(levelname)s - %(message)s')\n",
        "\n",
        "try:\n",
        "    numerator = 50\n",
        "    denominator = 0\n",
        "    result = numerator / denominator\n",
        "    print(f\"Result: {result}\")\n",
        "except ZeroDivisionError:\n",
        "    error_message = \"Attempted division by zero.\"\n",
        "    logging.error(error_message)\n",
        "    print(f\"An error occurred. Check '{log_file_name}' for details.\")"
      ],
      "metadata": {
        "colab": {
          "base_uri": "https://localhost:8080/"
        },
        "id": "wXuaRUi0FIn5",
        "outputId": "26930ebf-621f-47fc-9df9-26e96e23b72a"
      },
      "execution_count": 6,
      "outputs": [
        {
          "output_type": "stream",
          "name": "stderr",
          "text": [
            "ERROR:root:Attempted division by zero.\n"
          ]
        },
        {
          "output_type": "stream",
          "name": "stdout",
          "text": [
            "An error occurred. Check 'app_errors.log' for details.\n"
          ]
        }
      ]
    },
    {
      "cell_type": "code",
      "source": [
        "#\u00197.How do you log information at different levels (INFO, ERROR, WARNING) in Python using the logging module\u001f\n",
        "import logging\n",
        "\n",
        "# Basic configuration (defaults to console output)\n",
        "# Set level to INFO to see INFO, WARNING, ERROR\n",
        "logging.basicConfig(level=logging.INFO, format='%(asctime)s - %(levelname)s - %(message)s')\n",
        "\n",
        "logging.debug(\"This is a DEBUG message - usually not shown by default.\")\n",
        "logging.info(\"This is an INFO message - useful for general events.\")\n",
        "logging.warning(\"This is a WARNING message - something unexpected happened.\")\n",
        "logging.error(\"This is an ERROR message - a problem occurred that prevented an action.\")\n",
        "logging.critical(\"This is a CRITICAL message - a severe error, program might terminate.\")"
      ],
      "metadata": {
        "colab": {
          "base_uri": "https://localhost:8080/"
        },
        "id": "zx9r1kzxFWHz",
        "outputId": "8cafc8f9-4f94-44bd-af15-07a1c324853e"
      },
      "execution_count": 7,
      "outputs": [
        {
          "output_type": "stream",
          "name": "stderr",
          "text": [
            "WARNING:root:This is a WARNING message - something unexpected happened.\n",
            "ERROR:root:This is an ERROR message - a problem occurred that prevented an action.\n",
            "CRITICAL:root:This is a CRITICAL message - a severe error, program might terminate.\n"
          ]
        }
      ]
    },
    {
      "cell_type": "code",
      "source": [
        "#8.Write a program to handle a file opening error using exception handling.\n",
        "file_to_open = \"non_existent_document.txt\"\n",
        "\n",
        "try:\n",
        "    with open(file_to_open, 'r') as file:\n",
        "        content = file.read()\n",
        "        print(content)\n",
        "except FileNotFoundError:\n",
        "    print(f\"Error: Could not open '{file_to_open}'. The file was not found.\")\n",
        "except IOError as e: # Catch other potential IO errors\n",
        "    print(f\"An I/O error occurred while opening '{file_to_open}': {e}\")"
      ],
      "metadata": {
        "colab": {
          "base_uri": "https://localhost:8080/"
        },
        "id": "efs0ETyXFjrD",
        "outputId": "ab131dd9-53dd-4630-a1f9-68f37a41a440"
      },
      "execution_count": 8,
      "outputs": [
        {
          "output_type": "stream",
          "name": "stdout",
          "text": [
            "Error: Could not open 'non_existent_document.txt'. The file was not found.\n"
          ]
        }
      ]
    },
    {
      "cell_type": "code",
      "source": [
        "#9.How can you read a file line by line and store its content in a list in Python.\n",
        "file_name = \"lines_to_list.txt\"\n",
        "\n",
        "# Create a dummy file\n",
        "with open(file_name, 'w') as f:\n",
        "    f.write(\"Apple\\n\")\n",
        "    f.write(\"Banana\\n\")\n",
        "    f.write(\"Cherry\\n\")\n",
        "\n",
        "lines_list = []\n",
        "try:\n",
        "    with open(file_name, 'r') as file:\n",
        "        for line in file:\n",
        "            lines_list.append(line.strip()) # Add each line (without newline character) to the list\n",
        "    print(f\"File content as a list: {lines_list}\")\n",
        "except FileNotFoundError:\n",
        "    print(f\"Error: The file '{file_name}' was not found.\")"
      ],
      "metadata": {
        "colab": {
          "base_uri": "https://localhost:8080/"
        },
        "id": "Qi3HnGtxF7Ga",
        "outputId": "2a87a80b-ebea-4d03-f435-191d8f165c94"
      },
      "execution_count": 9,
      "outputs": [
        {
          "output_type": "stream",
          "name": "stdout",
          "text": [
            "File content as a list: ['Apple', 'Banana', 'Cherry']\n"
          ]
        }
      ]
    },
    {
      "cell_type": "code",
      "source": [
        "#10.How can you append data to an existing file in Python.\n",
        "file_name = \"my_log.txt\"\n",
        "\n",
        "# Create/clear the file first for demonstration\n",
        "with open(file_name, 'w') as f:\n",
        "    f.write(\"Initial log entry.\\n\")\n",
        "\n",
        "# Append new data\n",
        "new_entry = \"Another entry added later.\\n\"\n",
        "with open(file_name, 'a') as file:\n",
        "    file.write(new_entry)\n",
        "    file.write(\"A third entry.\\n\")\n",
        "\n",
        "print(f\"Data appended to '{file_name}'.\")\n",
        "\n",
        "# Verify content\n",
        "with open(file_name, 'r') as file:\n",
        "    print(\"\\nUpdated file content:\")\n",
        "    print(file.read())"
      ],
      "metadata": {
        "colab": {
          "base_uri": "https://localhost:8080/"
        },
        "id": "oxcLt1GaGGr4",
        "outputId": "7f707ba5-6c5c-46ee-d26c-31b5b0636eb3"
      },
      "execution_count": 10,
      "outputs": [
        {
          "output_type": "stream",
          "name": "stdout",
          "text": [
            "Data appended to 'my_log.txt'.\n",
            "\n",
            "Updated file content:\n",
            "Initial log entry.\n",
            "Another entry added later.\n",
            "A third entry.\n",
            "\n"
          ]
        }
      ]
    },
    {
      "cell_type": "code",
      "source": [
        "#11.Write a Python program that uses a try-except block to handle an error when attempting to access a dictionary key that doesn't exist\n",
        "my_dict = {\"name\": \"Alice\", \"age\": 30}\n",
        "\n",
        "try:\n",
        "    city = my_dict[\"city\"] # This key does not exist\n",
        "    print(f\"City: {city}\")\n",
        "except KeyError:\n",
        "    print(\"Error: The requested dictionary key does not exist.\")\n"
      ],
      "metadata": {
        "colab": {
          "base_uri": "https://localhost:8080/"
        },
        "id": "OSDd-87WGqpt",
        "outputId": "086641bf-6008-493b-9547-2c06faa21068"
      },
      "execution_count": 11,
      "outputs": [
        {
          "output_type": "stream",
          "name": "stdout",
          "text": [
            "Error: The requested dictionary key does not exist.\n"
          ]
        }
      ]
    },
    {
      "cell_type": "code",
      "source": [
        "#12.Write a program that demonstrates using multiple except blocks to handle different types of exceptions.\n",
        "def perform_calculation():\n",
        "    try:\n",
        "        num_str = input(\"Enter a number: \")\n",
        "        number = int(num_str) # Could raise ValueError\n",
        "        result = 100 / number # Could raise ZeroDivisionError\n",
        "        print(f\"Result: {result}\")\n",
        "    except ValueError:\n",
        "        print(\"Invalid input: Please enter a valid integer.\")\n",
        "    except ZeroDivisionError:\n",
        "        print(\"Math error: Cannot divide by zero.\")\n",
        "    except Exception as e: # Catch any other unexpected exceptions\n",
        "        print(f\"An unexpected error occurred: {e}\")\n",
        "\n",
        "perform_calculation()"
      ],
      "metadata": {
        "colab": {
          "base_uri": "https://localhost:8080/"
        },
        "id": "pqITWncmG8JW",
        "outputId": "de940a91-a5f2-4346-a72e-f8f7ad4bdebf"
      },
      "execution_count": 12,
      "outputs": [
        {
          "output_type": "stream",
          "name": "stdout",
          "text": [
            "Enter a number: 22\n",
            "Result: 4.545454545454546\n"
          ]
        }
      ]
    },
    {
      "cell_type": "code",
      "source": [
        "#13.How would you check if a file exists before attempting to read it in Python.\n",
        "import os\n",
        "\n",
        "\n",
        "file_to_check = \"existing_file.txt\"\n",
        "\n",
        "# Create a dummy existing file\n",
        "with open(file_to_check, 'w') as f:\n",
        "    f.write(\"Hello.\")\n",
        "\n",
        "if os.path.exists(file_to_check):\n",
        "    print(f\"The file '{file_to_check}' exists. Proceeding to read.\")\n",
        "    with open(file_to_check, 'r') as file:\n",
        "        print(file.read())\n",
        "else:\n",
        "    print(f\"The file '{file_to_check}' does NOT exist.\")"
      ],
      "metadata": {
        "colab": {
          "base_uri": "https://localhost:8080/"
        },
        "id": "T5z-VE7ZHXUh",
        "outputId": "f44a9aa8-8579-4033-9e87-ebe87d07eb57"
      },
      "execution_count": 13,
      "outputs": [
        {
          "output_type": "stream",
          "name": "stdout",
          "text": [
            "The file 'existing_file.txt' exists. Proceeding to read.\n",
            "Hello.\n"
          ]
        }
      ]
    },
    {
      "cell_type": "code",
      "source": [
        "#14.Write a program that uses the logging module to log both informational and error messages.\n",
        "import logging\n",
        "\n",
        "# Configure logging to console, showing INFO and above\n",
        "logging.basicConfig(level=logging.INFO, format='%(asctime)s - %(levelname)s - %(message)s')\n",
        "\n",
        "def process_data(data):\n",
        "    logging.info(f\"Starting data processing for: {data}\")\n",
        "    try:\n",
        "        if not isinstance(data, int) or data < 0:\n",
        "            raise ValueError(\"Data must be a non-negative integer.\")\n",
        "        result = data * 2\n",
        "        logging.info(f\"Successfully processed data. Result: {result}\")\n",
        "        return result\n",
        "    except ValueError as e:\n",
        "        logging.error(f\"Data processing failed for '{data}': {e}\")\n",
        "        return None\n",
        "    except Exception as e:\n",
        "        logging.error(f\"An unexpected error occurred during processing: {e}\")\n",
        "        return None\n",
        "\n",
        "process_data(10)\n",
        "process_data(-5)\n",
        "process_data(\"hello\")"
      ],
      "metadata": {
        "colab": {
          "base_uri": "https://localhost:8080/"
        },
        "id": "40C90WFWHvIl",
        "outputId": "90bc48c9-e394-43dc-e638-b23797479777"
      },
      "execution_count": 14,
      "outputs": [
        {
          "output_type": "stream",
          "name": "stderr",
          "text": [
            "ERROR:root:Data processing failed for '-5': Data must be a non-negative integer.\n",
            "ERROR:root:Data processing failed for 'hello': Data must be a non-negative integer.\n"
          ]
        }
      ]
    },
    {
      "cell_type": "code",
      "source": [
        "#15.Write a Python program that prints the content of a file and handles the case when the file is empty.\n",
        "file_name_empty = \"empty_file.txt\"\n",
        "file_name_non_empty = \"non_empty_file.txt\"\n",
        "\n",
        "# Create an empty file\n",
        "with open(file_name_empty, 'w') as f:\n",
        "    pass\n",
        "\n",
        "# Create a non-empty file\n",
        "with open(file_name_non_empty, 'w') as f:\n",
        "    f.write(\"Some content here.\")\n",
        "\n",
        "def read_and_check_empty(filename):\n",
        "    try:\n",
        "        with open(filename, 'r') as file:\n",
        "            content = file.read()\n",
        "            if not content: # Check if content is an empty string\n",
        "                print(f\"File '{filename}' is empty.\")\n",
        "            else:\n",
        "                print(f\"Content of '{filename}':\\n{content}\")\n",
        "    except FileNotFoundError:\n",
        "        print(f\"Error: The file '{filename}' was not found.\")\n",
        "\n",
        "read_and_check_empty(file_name_empty)\n",
        "read_and_check_empty(file_name_non_empty)\n",
        "read_and_check_empty(\"non_existent_file_again.txt\")"
      ],
      "metadata": {
        "colab": {
          "base_uri": "https://localhost:8080/"
        },
        "id": "-I_R0YwgH9GJ",
        "outputId": "39fbc699-4d01-4663-a07e-816d9b65c709"
      },
      "execution_count": 15,
      "outputs": [
        {
          "output_type": "stream",
          "name": "stdout",
          "text": [
            "File 'empty_file.txt' is empty.\n",
            "Content of 'non_empty_file.txt':\n",
            "Some content here.\n",
            "Error: The file 'non_existent_file_again.txt' was not found.\n"
          ]
        }
      ]
    },
    {
      "cell_type": "code",
      "source": [
        "#16.Demonstrate how to use memory profiling to check the memory usage of a small program.\n",
        "import sys\n",
        "my_list = [i for i in range(1000)]\n",
        "my_string = \"A\" * 10000\n",
        "\n",
        "print(f\"Size of my_list: {sys.getsizeof(my_list)} bytes\")\n",
        "print(f\"Size of my_string: {sys.getsizeof(my_string)} bytes\")\n"
      ],
      "metadata": {
        "colab": {
          "base_uri": "https://localhost:8080/"
        },
        "id": "CBc2vkXAIKm8",
        "outputId": "d1419d31-948f-4c80-a44f-a185f7ec5bf4"
      },
      "execution_count": 16,
      "outputs": [
        {
          "output_type": "stream",
          "name": "stdout",
          "text": [
            "Size of my_list: 8856 bytes\n",
            "Size of my_string: 10049 bytes\n"
          ]
        }
      ]
    },
    {
      "cell_type": "code",
      "source": [
        "#17.Write a Python program to create and write a list of numbers to a file, one number per line.\n",
        "numbers = [10, 20, 30, 40, 50, 60]\n",
        "output_file_name = \"numbers_list.txt\"\n",
        "\n",
        "try:\n",
        "    with open(output_file_name, 'w') as file:\n",
        "        for number in numbers:\n",
        "            file.write(str(number) + '\\n') # Convert number to string and add newline\n",
        "    print(f\"Numbers written to '{output_file_name}' successfully.\")\n",
        "except IOError as e:\n",
        "    print(f\"Error writing to file: {e}\")"
      ],
      "metadata": {
        "colab": {
          "base_uri": "https://localhost:8080/"
        },
        "id": "Fn2O-uX-Ii_l",
        "outputId": "b53f7987-ae4d-41d5-9f50-d4a38c890875"
      },
      "execution_count": 17,
      "outputs": [
        {
          "output_type": "stream",
          "name": "stdout",
          "text": [
            "Numbers written to 'numbers_list.txt' successfully.\n"
          ]
        }
      ]
    },
    {
      "cell_type": "code",
      "source": [
        "#18.How would you implement a basic logging setup that logs to a file with rotation after 1MB.\n",
        "import logging\n",
        "from logging.handlers import RotatingFileHandler\n",
        "import os\n",
        "\n",
        "log_file = \"rotated_app.log\"\n",
        "max_bytes = 1 * 1024 * 1024 # 1 MB\n",
        "backup_count = 5 # Keep up to 5 old log files\n",
        "\n",
        "# Create a logger instance\n",
        "logger = logging.getLogger(__name__)\n",
        "logger.setLevel(logging.INFO)\n",
        "\n",
        "# Create a rotating file handler\n",
        "handler = RotatingFileHandler(log_file, maxBytes=max_bytes, backupCount=backup_count)\n",
        "\n",
        "# Define log format\n",
        "formatter = logging.Formatter('%(asctime)s - %(levelname)s - %(message)s')\n",
        "handler.setFormatter(formatter)\n",
        "\n",
        "# Add the handler to the logger\n",
        "logger.addHandler(handler)\n",
        "\n",
        "# --- Demonstrate logging ---\n",
        "for i in range(100000): # Log many messages to trigger rotation quickly for demo\n",
        "    logger.info(f\"This is log message number {i}.\")\n",
        "    if i % 10000 == 0:\n",
        "        print(f\"Logged {i} messages. Check '{log_file}' and its backups.\")\n",
        "\n",
        "logger.warning(\"Example warning message at the end.\")\n",
        "\n",
        "print(f\"\\nLogging configured to '{log_file}' with 1MB rotation.\")\n",
        "print(f\"Check the directory for '{log_file}' and its backups (e.g., {log_file}.1, {log_file}.2).\")"
      ],
      "metadata": {
        "id": "wummSC9vJjIY"
      },
      "execution_count": null,
      "outputs": []
    },
    {
      "cell_type": "code",
      "source": [
        "#19.Write a program that handles both IndexError and KeyError using a try-except block.\n",
        "my_list = [10, 20, 30]\n",
        "my_dict = {\"name\": \"Charlie\", \"age\": 25}\n",
        "\n",
        "try:\n",
        "    # Attempt to access an out-of-bounds list index\n",
        "    value_from_list = my_list[5]\n",
        "    print(f\"List value: {value_from_list}\")\n",
        "\n",
        "    # Attempt to access a non-existent dictionary key\n",
        "    value_from_dict = my_dict[\"city\"]\n",
        "    print(f\"Dict value: {value_from_dict}\")\n",
        "\n",
        "except IndexError:\n",
        "    print(\"Error: Attempted to access a list index that does not exist.\")\n",
        "except KeyError:\n",
        "    print(\"Error: Attempted to access a dictionary key that does not exist.\")\n",
        "except Exception as e:\n",
        "    print(f\"An unexpected error occurred: {e}\")\n",
        "\n",
        "print(\"\\n--- Another attempt (will cause IndexError) ---\")\n",
        "try:\n",
        "    value_from_list = my_list[5]\n",
        "    print(f\"List value: {value_from_list}\")\n",
        "except (IndexError, KeyError) as e: # Can also combine them\n",
        "    print(f\"Combined Error: {e}\")\n",
        "\n",
        "print(\"\\n--- Another attempt (will cause KeyError) ---\")\n",
        "try:\n",
        "    value_from_dict = my_dict[\"country\"]\n",
        "    print(f\"Dict value: {value_from_dict}\")\n",
        "except (IndexError, KeyError) as e:\n",
        "    print(f\"Combined Error: {e}\")"
      ],
      "metadata": {
        "colab": {
          "base_uri": "https://localhost:8080/"
        },
        "id": "uPZquBUNJlWK",
        "outputId": "1ff0af67-aac3-4dca-980b-d218a103de5b"
      },
      "execution_count": 1,
      "outputs": [
        {
          "output_type": "stream",
          "name": "stdout",
          "text": [
            "Error: Attempted to access a list index that does not exist.\n",
            "\n",
            "--- Another attempt (will cause IndexError) ---\n",
            "Combined Error: list index out of range\n",
            "\n",
            "--- Another attempt (will cause KeyError) ---\n",
            "Combined Error: 'country'\n"
          ]
        }
      ]
    },
    {
      "cell_type": "code",
      "source": [
        "#20.How would you open a file and read its contents using a context manager in Python.\n",
        "file_name = \"example_file.txt\"\n",
        "# Create a dummy file\n",
        "with open(file_name, 'w') as f:\n",
        "    f.write(\"This is a line.\\n\")\n",
        "    f.write(\"Another line.\\n\")\n",
        "\n",
        "# Open and read using a context manager\n",
        "try:\n",
        "    with open(file_name, 'r') as file:\n",
        "        content = file.read()\n",
        "        print(f\"File content:\\n{content}\")\n",
        "    # File is automatically closed here\n",
        "except FileNotFoundError:\n",
        "    print(f\"Error: File '{file_name}' not found.\")"
      ],
      "metadata": {
        "colab": {
          "base_uri": "https://localhost:8080/"
        },
        "id": "_Xp5bzm8J1nv",
        "outputId": "3a095081-122e-4ea4-b5d9-1046ce6ec0e1"
      },
      "execution_count": 2,
      "outputs": [
        {
          "output_type": "stream",
          "name": "stdout",
          "text": [
            "File content:\n",
            "This is a line.\n",
            "Another line.\n",
            "\n"
          ]
        }
      ]
    },
    {
      "cell_type": "code",
      "source": [
        "#21.Write a Python program that reads a file and prints the number of occurrences of a specific word.\n",
        "file_name = \"word_count_test.txt\"\n",
        "target_word = \"python\"\n",
        "\n",
        "# Create a dummy file\n",
        "with open(file_name, 'w') as f:\n",
        "    f.write(\"Python is great. I love Python. Learning python is fun. PYTHOn.\\n\")\n",
        "    f.write(\"More text here, no python word.\")\n",
        "\n",
        "try:\n",
        "    with open(file_name, 'r') as file:\n",
        "        content = file.read()\n",
        "        # Convert content and target_word to lowercase for case-insensitive counting\n",
        "        word_count = content.lower().count(target_word.lower())\n",
        "        print(f\"The word '{target_word}' appears {word_count} times in '{file_name}'.\")\n",
        "except FileNotFoundError:\n",
        "    print(f\"Error: The file '{file_name}' was not found.\")"
      ],
      "metadata": {
        "colab": {
          "base_uri": "https://localhost:8080/"
        },
        "id": "6mPeLwztKDKD",
        "outputId": "f136daee-cfed-4b24-f6ba-a34bd63bdc27"
      },
      "execution_count": 3,
      "outputs": [
        {
          "output_type": "stream",
          "name": "stdout",
          "text": [
            "The word 'python' appears 5 times in 'word_count_test.txt'.\n"
          ]
        }
      ]
    },
    {
      "cell_type": "code",
      "source": [
        "#22.How can you check if a file is empty before attempting to read its contents\n",
        "import os\n",
        "\n",
        "file_empty = \"empty_check.txt\"\n",
        "file_not_empty = \"non_empty_check.txt\"\n",
        "\n",
        "# Create an empty file\n",
        "with open(file_empty, 'w') as f:\n",
        "    pass\n",
        "\n",
        "# Create a non-empty file\n",
        "with open(file_not_empty, 'w') as f:\n",
        "    f.write(\"Some text.\")\n",
        "\n",
        "def check_and_read_file(filename):\n",
        "    if not os.path.exists(filename):\n",
        "        print(f\"Error: File '{filename}' does not exist.\")\n",
        "        return\n",
        "\n",
        "    if os.path.getsize(filename) == 0:\n",
        "        print(f\"File '{filename}' is empty.\")\n",
        "    else:\n",
        "        print(f\"File '{filename}' is not empty. Reading content:\")\n",
        "        try:\n",
        "            with open(filename, 'r') as file:\n",
        "                print(file.read())\n",
        "        except Exception as e:\n",
        "            print(f\"An error occurred while reading '{filename}': {e}\")\n",
        "\n",
        "check_and_read_file(file_empty)\n",
        "print(\"-\" * 20)\n",
        "check_and_read_file(file_not_empty)\n",
        "print(\"-\" * 20)\n",
        "check_and_read_file(\"definitely_not_a_file.txt\")"
      ],
      "metadata": {
        "colab": {
          "base_uri": "https://localhost:8080/"
        },
        "id": "NIitGhpgKP7a",
        "outputId": "55212ce8-53b5-4a27-9714-f812479e9b5b"
      },
      "execution_count": 4,
      "outputs": [
        {
          "output_type": "stream",
          "name": "stdout",
          "text": [
            "File 'empty_check.txt' is empty.\n",
            "--------------------\n",
            "File 'non_empty_check.txt' is not empty. Reading content:\n",
            "Some text.\n",
            "--------------------\n",
            "Error: File 'definitely_not_a_file.txt' does not exist.\n"
          ]
        }
      ]
    },
    {
      "cell_type": "code",
      "source": [
        "#23.Write a Python program that writes to a log file when an error occurs during file handling.\n",
        "import logging\n",
        "\n",
        "# Configure logging to a specific file\n",
        "error_log_file = \"file_handling_errors.log\"\n",
        "logging.basicConfig(filename=error_log_file, level=logging.ERROR,\n",
        "                    format='%(asctime)s - %(levelname)s - %(message)s')\n",
        "\n",
        "def process_a_file(filepath):\n",
        "    try:\n",
        "        with open(filepath, 'r') as file:\n",
        "            content = file.read()\n",
        "            print(f\"Successfully read content from '{filepath}':\\n{content[:50]}...\") # Print first 50 chars\n",
        "    except FileNotFoundError:\n",
        "        error_message = f\"File handling error: '{filepath}' not found.\"\n",
        "        logging.error(error_message)\n",
        "        print(f\"Failed to process '{filepath}'. Error logged.\")\n",
        "    except PermissionError:\n",
        "        error_message = f\"File handling error: Permission denied for '{filepath}'.\"\n",
        "        logging.error(error_message)\n",
        "        print(f\"Failed to process '{filepath}'. Permission denied. Error logged.\")\n",
        "    except IOError as e:\n",
        "        error_message = f\"Generic I/O error with '{filepath}': {e}\"\n",
        "        logging.error(error_message)\n",
        "        print(f\"Failed to process '{filepath}'. Generic I/O error. Error logged.\")\n",
        "    except Exception as e:\n",
        "        error_message = f\"An unexpected error occurred while processing '{filepath}': {e}\"\n",
        "        logging.error(error_message, exc_info=True) # exc_info=True adds traceback\n",
        "        print(f\"An unexpected error occurred for '{filepath}'. Error logged.\")\n",
        "\n",
        "# Test cases\n",
        "# Create a dummy file\n",
        "with open(\"valid_file.txt\", \"w\") as f:\n",
        "    f.write(\"This is some test content for a valid file.\")\n",
        "\n",
        "process_a_file(\"valid_file.txt\")\n",
        "print(\"-\" * 20)\n",
        "process_a_file(\"non_existent_file_for_logging.txt\")\n",
        "print(\"-\" * 20)\n",
        "print(f\"\\nCheck '{error_log_file}' for logged errors.\")"
      ],
      "metadata": {
        "colab": {
          "base_uri": "https://localhost:8080/"
        },
        "id": "zDc13pDnKeU9",
        "outputId": "0a071d2e-0bcd-41bb-c9c9-cf416743242c"
      },
      "execution_count": 5,
      "outputs": [
        {
          "output_type": "stream",
          "name": "stderr",
          "text": [
            "ERROR:root:File handling error: 'non_existent_file_for_logging.txt' not found.\n"
          ]
        },
        {
          "output_type": "stream",
          "name": "stdout",
          "text": [
            "Successfully read content from 'valid_file.txt':\n",
            "This is some test content for a valid file....\n",
            "--------------------\n",
            "Failed to process 'non_existent_file_for_logging.txt'. Error logged.\n",
            "--------------------\n",
            "\n",
            "Check 'file_handling_errors.log' for logged errors.\n"
          ]
        }
      ]
    }
  ]
}